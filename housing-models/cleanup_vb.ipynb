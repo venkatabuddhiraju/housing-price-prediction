{
 "cells": [
  {
   "cell_type": "code",
   "id": "initial_id",
   "metadata": {
    "collapsed": true,
    "ExecuteTime": {
     "end_time": "2025-04-11T19:13:23.398365Z",
     "start_time": "2025-04-11T19:13:23.218913Z"
    }
   },
   "source": [
    "import numpy as np\n",
    "#cleanup tasks - venkata\n",
    "import pandas as pd\n",
    "from sklearn.ensemble import RandomForestRegressor\n",
    "from sklearn.metrics import mean_squared_error\n",
    "from sklearn.preprocessing import StandardScaler, OneHotEncoder\n",
    "from sklearn.model_selection import train_test_split\n",
    "import seaborn as sns\n",
    "from matplotlib import pyplot as plt\n",
    "\n",
    "scaler = StandardScaler()"
   ],
   "outputs": [],
   "execution_count": 65
  },
  {
   "metadata": {},
   "cell_type": "code",
   "source": [
    "test_df = pd.read_csv('../docs/test.csv')\n",
    "# test_df.head()\n",
    "train_df = pd.read_csv('../docs/train.csv')\n",
    "train_df.head()\n",
    "\n",
    "# missing_values_in_test = test_df.isnull().sum()\n",
    "# print(missing_values_in_test)\n",
    "\n",
    "def remove_highly_correlated_features(train_df, test_df, threshold=0.85):\n",
    "    # Compute the correlation matrix\n",
    "    corr_matrix = train_df.corr(numeric_only=True)\n",
    "\n",
    "    to_drop = [column for column in corr_matrix.columns if any(corr_matrix[column] > threshold)]\n",
    "\n",
    "    # Drop the highly correlated columns\n",
    "    train_df = train_df.drop(columns=to_drop)\n",
    "    test_df = test_df.drop(columns=to_drop)\n",
    "    return train_df, test_df\n",
    "\n",
    "\n",
    "def process_correlation(train_df, test_df):\n",
    "    # Compute the correlation matrix\n",
    "    correlation_matrix = train_df.corr(numeric_only=True)\n",
    "\n",
    "    # Visualize the correlation matrix\n",
    "    # plt.figure(figsize=(10, 8))\n",
    "    # sns.heatmap(correlation_matrix, annot=True, cmap='coolwarm', fmt='.2f')\n",
    "    # plt.title('Correlation Matrix')\n",
    "    # plt.show()\n",
    "    remove_highly_correlated_features(train_df, test_df)\n",
    "\n",
    "def preprocess_data(train_df, test_df):\n",
    "\n",
    "    # Identify numerical and categorical columns\n",
    "    numerical_cols = train_df.select_dtypes(include=['int64', 'float64']).columns\n",
    "    categorical_cols = train_df.select_dtypes(include=['object', 'category']).columns\n",
    "\n",
    "    # Scale numerical columns\n",
    "    scaler = StandardScaler()\n",
    "    train_df[numerical_cols] = scaler.fit_transform(train_df[numerical_cols])\n",
    "    test_df[numerical_cols] = scaler.transform(test_df[numerical_cols])\n",
    "    # Encode categorical columns\n",
    "    encoder = OneHotEncoder(handle_unknown='ignore', sparse_output=False)\n",
    "    encoded_categorical = encoder.fit_transform(train_df[categorical_cols])\n",
    "    encoded_categorical_test = encoder.transform(test_df[categorical_cols])\n",
    "    # Convert encoded values to a DataFrame\n",
    "    encoded_categorical_df = pd.DataFrame(\n",
    "        encoded_categorical,\n",
    "        columns=encoder.get_feature_names_out(categorical_cols),\n",
    "        index=train_df.index\n",
    "    )\n",
    "    encoded_categorical_df_test = pd.DataFrame(encoded_categorical_test,\n",
    "        columns=encoder.get_feature_names_out(categorical_cols),\n",
    "        index=test_df.index\n",
    "    )\n",
    "    # Drop original categorical columns and concatenate the encoded DataFrame\n",
    "    train_df = pd.concat([train_df.drop(categorical_cols, axis=1), encoded_categorical_df], axis=1)\n",
    "    test_df = pd.concat([test_df.drop(categorical_cols, axis=1), encoded_categorical_df_test], axis=1)\n",
    "\n",
    "    # Align the train and test DataFrames\n",
    "    train_df = train_df.drop(columns=['Id'])  # Drop ID column\n",
    "    test_ids = test_df['Id']\n",
    "    test_df = test_df.drop(columns=['Id'])\n",
    "\n",
    "    # process correlation features\n",
    "    process_correlation(train_df, test_df)\n",
    "\n",
    "    return train_df, test_df"
   ],
   "id": "6c490f7edc1c1c6c",
   "outputs": [],
   "execution_count": null
  },
  {
   "metadata": {},
   "cell_type": "code",
   "source": [
    "# Load the dataset\n",
    "X = train_df.drop('SalePrice', axis=1)  # Replace 'target_column' with the actual target column name\n",
    "y = train_df['SalePrice']\n",
    "X_train, X_test, y_train, y_test = train_test_split(X, y, test_size=0.2, random_state=42)\n",
    "\n",
    "# preprocess\n",
    "X_train_ready, X_test_ready = preprocess_data(X_train, X_test)\n",
    "print(X_train_ready.info())"
   ],
   "id": "7a2adaa8e56762d5",
   "outputs": [],
   "execution_count": null
  },
  {
   "metadata": {
    "ExecuteTime": {
     "end_time": "2025-04-11T19:16:18.607912Z",
     "start_time": "2025-04-11T19:16:10.616429Z"
    }
   },
   "cell_type": "code",
   "source": [
    "model = RandomForestRegressor(n_estimators=100, random_state=42)\n",
    "model.fit(X_train_ready, y_train)\n",
    "\n",
    "# Predict on the test data\n",
    "predictions_rf = model.predict(X_test_ready)\n",
    "X_test_ready['SalePriceRF'] = predictions_rf\n",
    "\n",
    "# Calculate the mean squared error\n",
    "mse = mean_squared_error(y_test, predictions_rf)\n",
    "\n",
    "# Calculate the root mean squared error\n",
    "rmse = np.sqrt(mse)\n",
    "\n",
    "# Print the result\n",
    "print(f\"Root Mean Squared Error of Random Forest: {rmse}\")\n",
    "print(X_test_ready.head())"
   ],
   "id": "dfb091750021e619",
   "outputs": [
    {
     "name": "stdout",
     "output_type": "stream",
     "text": [
      "Root Mean Squared Error of Random Forest: 28931.374675911215\n",
      "      MSSubClass  LotFrontage   LotArea  OverallQual  OverallCond  YearBuilt  \\\n",
      "892    -0.866764    -0.013818 -0.211594    -0.088934     2.165000  -0.259789   \n",
      "1105    0.074110     1.111406  0.145643     1.374088    -0.524174   0.751222   \n",
      "413    -0.631546    -0.576430 -0.160826    -0.820445     0.372217  -1.433867   \n",
      "522    -0.161109    -0.817550 -0.529035    -0.088934     1.268609  -0.781602   \n",
      "1036   -0.866764     0.749727  0.205338     2.105599    -0.524174   1.175195   \n",
      "\n",
      "      YearRemodAdd  MasVnrArea  BsmtFinSF1  BsmtFinSF2  ...  SaleType_New  \\\n",
      "892       0.873470   -0.599984    0.472844   -0.285504  ...           0.0   \n",
      "1105      0.487465    1.493012    1.276986   -0.285504  ...           0.0   \n",
      "413      -1.683818   -0.599984   -0.971996   -0.285504  ...           0.0   \n",
      "522      -1.683818   -0.599984   -0.102477   -0.285504  ...           0.0   \n",
      "1036      1.114724   -0.195261    1.255193   -0.285504  ...           0.0   \n",
      "\n",
      "      SaleType_Oth  SaleType_WD  SaleCondition_Abnorml  SaleCondition_AdjLand  \\\n",
      "892            0.0          1.0                    0.0                    0.0   \n",
      "1105           0.0          1.0                    0.0                    0.0   \n",
      "413            0.0          1.0                    0.0                    0.0   \n",
      "522            0.0          1.0                    0.0                    0.0   \n",
      "1036           0.0          1.0                    0.0                    0.0   \n",
      "\n",
      "      SaleCondition_Alloca  SaleCondition_Family  SaleCondition_Normal  \\\n",
      "892                    0.0                   0.0                   1.0   \n",
      "1105                   0.0                   0.0                   1.0   \n",
      "413                    0.0                   0.0                   1.0   \n",
      "522                    0.0                   0.0                   1.0   \n",
      "1036                   0.0                   0.0                   1.0   \n",
      "\n",
      "      SaleCondition_Partial  SalePriceRF  \n",
      "892                     0.0    141347.25  \n",
      "1105                    0.0    335328.98  \n",
      "413                     0.0    118594.00  \n",
      "522                     0.0    152644.00  \n",
      "1036                    0.0    324495.32  \n",
      "\n",
      "[5 rows x 302 columns]\n"
     ]
    }
   ],
   "execution_count": 68
  }
 ],
 "metadata": {
  "kernelspec": {
   "display_name": "Python 3",
   "language": "python",
   "name": "python3"
  },
  "language_info": {
   "codemirror_mode": {
    "name": "ipython",
    "version": 2
   },
   "file_extension": ".py",
   "mimetype": "text/x-python",
   "name": "python",
   "nbconvert_exporter": "python",
   "pygments_lexer": "ipython2",
   "version": "2.7.6"
  }
 },
 "nbformat": 4,
 "nbformat_minor": 5
}
